{
 "cells": [
  {
   "cell_type": "code",
   "execution_count": 1,
   "metadata": {
    "dotnet_interactive": {
     "language": "csharp"
    },
    "polyglot_notebook": {
     "kernelName": "csharp"
    },
    "vscode": {
     "languageId": "polyglot-notebook"
    }
   },
   "outputs": [
    {
     "data": {
      "text/html": [
       "<div><div></div><div></div><div><strong>Installed Packages</strong><ul><li><span>Microsoft.SemanticKernel.Agents.Abstractions, 1.32.0-alpha</span></li><li><span>Microsoft.SemanticKernel.Agents.Core, 1.32.0-alpha</span></li><li><span>Microsoft.SemanticKernel.Agents.OpenAI, 1.32.0-alpha</span></li><li><span>Microsoft.SemanticKernel.Connectors.AzureOpenAI, 1.32.0</span></li></ul></div></div>"
      ]
     },
     "metadata": {},
     "output_type": "display_data"
    }
   ],
   "source": [
    "#r \"nuget: Microsoft.SemanticKernel.Agents.Abstractions, *-*\"\n",
    "#r \"nuget: Microsoft.SemanticKernel.Agents.Core, *-*\"\n",
    "#r \"nuget: Microsoft.SemanticKernel.Agents.OpenAI, *-*\"\n",
    "#r \"nuget: Microsoft.SemanticKernel.Connectors.AzureOpenAI, *-*\""
   ]
  },
  {
   "cell_type": "code",
   "execution_count": 2,
   "metadata": {
    "dotnet_interactive": {
     "language": "csharp"
    },
    "polyglot_notebook": {
     "kernelName": "csharp"
    },
    "vscode": {
     "languageId": "polyglot-notebook"
    }
   },
   "outputs": [],
   "source": [
    "using System.ComponentModel;\n",
    "using Microsoft.SemanticKernel;\n",
    "using Microsoft.SemanticKernel.Agents;\n",
    "using Microsoft.SemanticKernel.Agents.Chat;\n",
    "using Microsoft.SemanticKernel.ChatCompletion;\n",
    "using Microsoft.SemanticKernel.Connectors.AzureOpenAI;"
   ]
  },
  {
   "cell_type": "code",
   "execution_count": 3,
   "metadata": {
    "dotnet_interactive": {
     "language": "csharp"
    },
    "polyglot_notebook": {
     "kernelName": "csharp"
    },
    "vscode": {
     "languageId": "polyglot-notebook"
    }
   },
   "outputs": [],
   "source": [
    "var deployment = \"gpt-4o-mini\";\n",
    "var endpoint = \"Your AOAI endpoint\";\n",
    "var key = \"Your AOAI key\";"
   ]
  },
  {
   "cell_type": "code",
   "execution_count": 4,
   "metadata": {
    "dotnet_interactive": {
     "language": "csharp"
    },
    "polyglot_notebook": {
     "kernelName": "csharp"
    },
    "vscode": {
     "languageId": "polyglot-notebook"
    }
   },
   "outputs": [],
   "source": [
    "#pragma warning disable SKEXP0010\n",
    "\n",
    "var kernel = Kernel.CreateBuilder()\n",
    "    .AddAzureOpenAIChatCompletion(deployment, endpoint, key)\n",
    "    .Build();"
   ]
  },
  {
   "cell_type": "code",
   "execution_count": 5,
   "metadata": {
    "dotnet_interactive": {
     "language": "csharp"
    },
    "polyglot_notebook": {
     "kernelName": "csharp"
    },
    "vscode": {
     "languageId": "polyglot-notebook"
    }
   },
   "outputs": [
    {
     "data": {
      "text/html": [
       "<div><div></div><div></div><div><strong>Installed Packages</strong><ul><li><span>Azure.AI.Projects, 1.0.0-beta.2</span></li><li><span>Azure.Identity, 1.13.1</span></li></ul></div></div>"
      ]
     },
     "metadata": {},
     "output_type": "display_data"
    }
   ],
   "source": [
    "#r \"nuget: Azure.AI.Projects, 1.0.0-beta.2\"\n",
    "\n",
    "#r \"nuget: Azure.Identity, 1.13.1\""
   ]
  },
  {
   "cell_type": "code",
   "execution_count": 6,
   "metadata": {
    "dotnet_interactive": {
     "language": "csharp"
    },
    "polyglot_notebook": {
     "kernelName": "csharp"
    },
    "vscode": {
     "languageId": "polyglot-notebook"
    }
   },
   "outputs": [],
   "source": [
    "using System;\n",
    "using System.Collections.Generic;\n",
    "using System.Threading.Tasks;\n",
    "\n",
    "using Azure.Identity;\n",
    "using Azure.AI.Projects;\n",
    "using Azure.Core;\n",
    "using Azure.Core.Pipeline;"
   ]
  },
  {
   "cell_type": "code",
   "execution_count": 7,
   "metadata": {
    "dotnet_interactive": {
     "language": "csharp"
    },
    "polyglot_notebook": {
     "kernelName": "csharp"
    },
    "vscode": {
     "languageId": "polyglot-notebook"
    }
   },
   "outputs": [],
   "source": [
    "internal class CustomHeadersPolicy : HttpPipelineSynchronousPolicy\n",
    "{\n",
    "    public override void OnSendingRequest(HttpMessage message)\n",
    "    {\n",
    "        message.Request.Headers.Add(\"x-ms-enable-preview\", \"true\");\n",
    "    }\n",
    "}"
   ]
  },
  {
   "cell_type": "code",
   "execution_count": 9,
   "metadata": {
    "dotnet_interactive": {
     "language": "csharp"
    },
    "polyglot_notebook": {
     "kernelName": "csharp"
    },
    "vscode": {
     "languageId": "polyglot-notebook"
    }
   },
   "outputs": [],
   "source": [
    "public sealed class SavePlugin\n",
    "{\n",
    "        [KernelFunction, Description(\"Save blog\")]\n",
    "        [System.Diagnostics.CodeAnalysis.SuppressMessage(\"Design\", \"CA1024:Use properties where appropriate\", Justification = \"Too smart\")]\n",
    "        public async Task<string> Save([Description(\"save blog content\")]\n",
    "            string content)\n",
    "        {\n",
    "            Console.Write(\"###\"+content);\n",
    "            var connectionString = \"eastus.api.azureml.ms;6415ebd4-1dd7-430f-bd4d-2f5e9419c1cd;rg-kinfey-ai;kinfey-agent-project-23ra\";\n",
    "            AgentsClient client = new AgentsClient(connectionString, new DefaultAzureCredential());\n",
    "            Azure.Response<Azure.AI.Projects.Agent> agentResponse = await client.CreateAgentAsync(\n",
    "                model: \"gpt-4o-mini\",\n",
    "                name: \"code-agent\",\n",
    "                instructions: \"You are a personal python assistant. Write and run code to answer questions.\",\n",
    "                tools: new List<ToolDefinition> { new CodeInterpreterToolDefinition() });\n",
    "            Azure.AI.Projects.Agent agent = agentResponse.Value;\n",
    "            Azure.Response<PageableList<Azure.AI.Projects.Agent>> agentListResponse = await client.GetAgentsAsync();\n",
    "            Azure.Response<AgentThread> threadResponse = await client.CreateThreadAsync();\n",
    "            AgentThread thread = threadResponse.Value;\n",
    "             Azure.Response<ThreadMessage> messageResponse = await client.CreateMessageAsync(\n",
    "            thread.Id,\n",
    "            MessageRole.User,\n",
    "            @\"You are my Python programming assistant. Generate code and execute it according to the following requirements\n",
    "                1. Save\" + content +     @\"file as blog-{YYMMDDHHMMSS}.md\n",
    "                2. give me the download this file link\n",
    "            \");\n",
    "            ThreadMessage message = messageResponse.Value;\n",
    "            Azure.Response<PageableList<ThreadMessage>> messagesListResponse = await client.GetMessagesAsync(thread.Id);\n",
    "            Azure.Response<ThreadRun> runResponse = await client.CreateRunAsync(\n",
    "            thread.Id,\n",
    "            agent.Id);\n",
    "            ThreadRun run = runResponse.Value;\n",
    "            do\n",
    "            {\n",
    "                        await Task.Delay(TimeSpan.FromMilliseconds(500));\n",
    "                        runResponse = await client.GetRunAsync(thread.Id, runResponse.Value.Id);\n",
    "            }\n",
    "            while (runResponse.Value.Status == RunStatus.Queued\n",
    "                        || runResponse.Value.Status == RunStatus.InProgress);\n",
    "            Azure.Response<PageableList<ThreadMessage>> afterRunMessagesResponse = await client.GetMessagesAsync(thread.Id);\n",
    "            IReadOnlyList<ThreadMessage> messages = afterRunMessagesResponse.Value.Data;\n",
    "\n",
    "            foreach (ThreadMessage threadMessage in messages)\n",
    "            {\n",
    "                        // Console.Write($\"{threadMessage.CreatedAt:yyyy-MM-dd HH:mm:ss} - {threadMessage.Role,10}: \");\n",
    "                        foreach (MessageContent contentItem in threadMessage.ContentItems)\n",
    "                        {\n",
    "                            \n",
    "                            if (contentItem is MessageTextContent textItem)\n",
    "                            {\n",
    "                                // Console.Write(textItem.Text);\n",
    "\n",
    "                                if(textItem.Annotations is not null && textItem.Annotations.Count > 0)\n",
    "                                {\n",
    "\n",
    "                                    if(textItem.Annotations[0] is MessageTextFilePathAnnotation pathItem )\n",
    "                                    {\n",
    "                                        // Console.Write($\"[Download file]({pathItem.Text})\");\n",
    "\n",
    "                                        Azure.Response<AgentFile> agentfile = await client.GetFileAsync(pathItem.FileId);\n",
    "\n",
    "                                        Azure.Response<BinaryData> fileBytes = await client.GetFileContentAsync(pathItem.FileId);\n",
    "\n",
    "                                        Console.Write(agentfile.Value.Filename);\n",
    "\n",
    "                                        var mdfile =System.IO.Path.GetFileName(agentfile.Value.Filename);\n",
    "\n",
    "                                        using System.IO.FileStream stream = System.IO.File.OpenWrite($\"./blog/{mdfile}\");\n",
    "                                        fileBytes.Value.ToStream().CopyTo(stream);\n",
    "\n",
    "                                    }\n",
    "\n",
    "                                }\n",
    "\n",
    "                            }\n",
    "                            // Console.WriteLine();\n",
    "                        }\n",
    "\n",
    "\n",
    "            }\n",
    "        \n",
    "            return \"Saved\";\n",
    "        }\n",
    "}"
   ]
  },
  {
   "cell_type": "code",
   "execution_count": 10,
   "metadata": {
    "dotnet_interactive": {
     "language": "csharp"
    },
    "polyglot_notebook": {
     "kernelName": "csharp"
    },
    "vscode": {
     "languageId": "polyglot-notebook"
    }
   },
   "outputs": [],
   "source": [
    "const string SearchHostName = \"Search\";\n",
    "const string SearchHostInstructions = \"You are a search expert, help me use tools to find relevant knowledge\";"
   ]
  },
  {
   "cell_type": "code",
   "execution_count": 11,
   "metadata": {
    "dotnet_interactive": {
     "language": "csharp"
    },
    "polyglot_notebook": {
     "kernelName": "csharp"
    },
    "vscode": {
     "languageId": "polyglot-notebook"
    }
   },
   "outputs": [],
   "source": [
    "#pragma warning disable SKEXP0110\n",
    "\n",
    "ChatCompletionAgent search_agent =\n",
    "            new()\n",
    "            {\n",
    "                Name = SearchHostName,\n",
    "                Instructions = SearchHostInstructions,\n",
    "                Kernel = kernel,\n",
    "                Arguments = new KernelArguments(new AzureOpenAIPromptExecutionSettings() { FunctionChoiceBehavior = FunctionChoiceBehavior.Auto() }),\n",
    "            };"
   ]
  },
  {
   "cell_type": "code",
   "execution_count": 12,
   "metadata": {
    "dotnet_interactive": {
     "language": "csharp"
    },
    "polyglot_notebook": {
     "kernelName": "csharp"
    },
    "vscode": {
     "languageId": "polyglot-notebook"
    }
   },
   "outputs": [],
   "source": [
    "const string SaveHostName = \"SaveBlog\";\n",
    "const string SavehHostInstructions = \"Save blog content. Respond with 'Saved' to when your blog are saved.\";"
   ]
  },
  {
   "cell_type": "code",
   "execution_count": 13,
   "metadata": {
    "dotnet_interactive": {
     "language": "csharp"
    },
    "polyglot_notebook": {
     "kernelName": "csharp"
    },
    "vscode": {
     "languageId": "polyglot-notebook"
    }
   },
   "outputs": [],
   "source": [
    "#pragma warning disable SKEXP0110\n",
    "\n",
    "ChatCompletionAgent save_blog_agent =\n",
    "            new()\n",
    "            {\n",
    "                Name = SaveHostName,\n",
    "                Instructions = SavehHostInstructions,\n",
    "                Kernel = kernel,\n",
    "                Arguments = new KernelArguments(new AzureOpenAIPromptExecutionSettings() { FunctionChoiceBehavior = FunctionChoiceBehavior.Auto() }),\n",
    "            };"
   ]
  },
  {
   "cell_type": "code",
   "execution_count": 14,
   "metadata": {
    "dotnet_interactive": {
     "language": "csharp"
    },
    "polyglot_notebook": {
     "kernelName": "csharp"
    },
    "vscode": {
     "languageId": "polyglot-notebook"
    }
   },
   "outputs": [],
   "source": [
    "private const string WriteBlogName = \"WriteBlog\";\n",
    "private const string WriteBlogInstructions =\n",
    "        \"\"\"\n",
    "        You are a blog writer, please help me write a blog based on bing search content.\n",
    "        \"\"\";"
   ]
  },
  {
   "cell_type": "code",
   "execution_count": 15,
   "metadata": {
    "dotnet_interactive": {
     "language": "csharp"
    },
    "polyglot_notebook": {
     "kernelName": "csharp"
    },
    "vscode": {
     "languageId": "polyglot-notebook"
    }
   },
   "outputs": [],
   "source": [
    "#pragma warning disable SKEXP0110\n",
    "\n",
    "ChatCompletionAgent write_blog_agent =\n",
    "            new()\n",
    "            {\n",
    "                Name = WriteBlogName,\n",
    "                Instructions = WriteBlogInstructions,\n",
    "                Kernel = kernel\n",
    "            };"
   ]
  },
  {
   "cell_type": "code",
   "execution_count": 17,
   "metadata": {
    "dotnet_interactive": {
     "language": "csharp"
    },
    "polyglot_notebook": {
     "kernelName": "csharp"
    },
    "vscode": {
     "languageId": "polyglot-notebook"
    }
   },
   "outputs": [],
   "source": [
    "#pragma warning disable SKEXP0110\n",
    "\n",
    "KernelPlugin save_blog_plugin = KernelPluginFactory.CreateFromType<SavePlugin>();\n",
    "save_blog_agent.Kernel.Plugins.Add(save_blog_plugin);"
   ]
  },
  {
   "cell_type": "code",
   "execution_count": 18,
   "metadata": {
    "dotnet_interactive": {
     "language": "csharp"
    },
    "polyglot_notebook": {
     "kernelName": "csharp"
    },
    "vscode": {
     "languageId": "polyglot-notebook"
    }
   },
   "outputs": [],
   "source": [
    " #pragma warning disable SKEXP0110   \n",
    " using System.Threading;\n",
    "    \n",
    "\n",
    "\n",
    "private sealed class ApprovalTerminationStrategy : TerminationStrategy\n",
    "{\n",
    "        // Terminate when the final message contains the term \"approve\"\n",
    "        protected override Task<bool> ShouldAgentTerminateAsync(Microsoft.SemanticKernel.Agents.Agent agent, IReadOnlyList<ChatMessageContent> history, CancellationToken cancellationToken)\n",
    "            => Task.FromResult(history[history.Count - 1].Content?.Contains(\"Saved\", StringComparison.OrdinalIgnoreCase) ?? false);\n",
    "}"
   ]
  },
  {
   "cell_type": "code",
   "execution_count": null,
   "metadata": {
    "dotnet_interactive": {
     "language": "csharp"
    },
    "polyglot_notebook": {
     "kernelName": "csharp"
    },
    "vscode": {
     "languageId": "polyglot-notebook"
    }
   },
   "outputs": [],
   "source": [
    " #pragma warning disable SKEXP0110\n",
    "\n",
    "AgentGroupChat chat =\n",
    "            new(write_blog_agent,save_blog_agent)\n",
    "            {\n",
    "                ExecutionSettings =\n",
    "                    new()\n",
    "                    {\n",
    "                        TerminationStrategy =\n",
    "                            new ApprovalTerminationStrategy()\n",
    "                            {\n",
    "                                // Only the art-director may approve.\n",
    "                                Agents = [save_blog_agent],\n",
    "                                // Limit total number of turns\n",
    "                                MaximumIterations = 10,\n",
    "                            }\n",
    "                    }\n",
    "            };"
   ]
  },
  {
   "cell_type": "code",
   "execution_count": 20,
   "metadata": {
    "dotnet_interactive": {
     "language": "csharp"
    },
    "polyglot_notebook": {
     "kernelName": "csharp"
    },
    "vscode": {
     "languageId": "polyglot-notebook"
    }
   },
   "outputs": [],
   "source": [
    " #pragma warning disable SKEXP0110\n",
    "\n",
    "ChatMessageContent input = new(AuthorRole.User, \"\"\"\n",
    "                    I am writing a blog about GraphRAG. Search for the following 2 questions and write a Chinese blog based on the search results ,save it           \n",
    "                        1. What is Microsoft GraphRAG?\n",
    "                        2. Vector-based RAG vs GraphRAG\n",
    "                    \"\"\");\n",
    "chat.AddChatMessage(input);"
   ]
  },
  {
   "cell_type": "code",
   "execution_count": null,
   "metadata": {
    "dotnet_interactive": {
     "language": "csharp"
    },
    "polyglot_notebook": {
     "kernelName": "csharp"
    },
    "vscode": {
     "languageId": "polyglot-notebook"
    }
   },
   "outputs": [],
   "source": [
    "#pragma warning disable SKEXP0110   \n",
    "#pragma warning disable SKEXP0001\n",
    "      \n",
    "\n",
    "\n",
    "await foreach (ChatMessageContent content in chat.InvokeAsync())\n",
    "{\n",
    "    Console.WriteLine($\"# {content.Role} - {content.AuthorName ?? \"*\"}: '{content.Content}'\");\n",
    "}"
   ]
  }
 ],
 "metadata": {
  "kernelspec": {
   "display_name": ".NET (C#)",
   "language": "C#",
   "name": ".net-csharp"
  },
  "language_info": {
   "name": "python"
  },
  "polyglot_notebook": {
   "kernelInfo": {
    "defaultKernelName": "csharp",
    "items": [
     {
      "aliases": [],
      "name": "csharp"
     }
    ]
   }
  }
 },
 "nbformat": 4,
 "nbformat_minor": 2
}
